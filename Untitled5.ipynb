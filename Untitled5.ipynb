{
  "nbformat": 4,
  "nbformat_minor": 0,
  "metadata": {
    "colab": {
      "provenance": []
    },
    "kernelspec": {
      "name": "python3",
      "display_name": "Python 3"
    },
    "language_info": {
      "name": "python"
    }
  },
  "cells": [
    {
      "cell_type": "code",
      "execution_count": null,
      "metadata": {
        "id": "uyybVWyF4J8U"
      },
      "outputs": [],
      "source": []
    },
    {
      "cell_type": "markdown",
      "source": [
        "<p align=\"center\"><b><font color=\"red\">Визитная карточка</font></b></p>\n",
        "<b>Гай Юлий Цезарь</b>\n",
        "\n",
        "![image](https://i.mycdn.me/image?id=872802395331&t=50&plc=WEB&tkn=*K_wuRO7eCakrBIwqnK8u9EEFCIs&fn=external_8)\n",
        "\n",
        "<i>Общая информация</i>\n",
        "\n",
        "<ul>\n",
        "<li>Дата рождения: 01.01.2000</li>\n",
        "<li>Гражданство: РФ</li>\n",
        "<li>Образование: РАНХИГС (Напрвление:Государственная и муниципальная служба)</li>\n",
        "<li>Предыдущее место работы:Резиденция князя Киевского</li>\n",
        "<li>Должность: Советник князя Киевского</li>\n",
        "</ul>\n",
        "\n",
        "<i>Навыки и преимущества</i>\n",
        "<ol>\n",
        "<li>Молод</li>\n",
        "<li>Умен</li>\n",
        "<li>Обаятелен</li>\n",
        "<li>Знание английского, немецкого и китайского</li>\n",
        "<li>Готовность к командировкам (\"Как я обожаю Германию! Особенно Лондон.\")</li>\n",
        "</ol>\n"
      ],
      "metadata": {
        "id": "F_Pue_ro4Wxn"
      }
    },
    {
      "cell_type": "markdown",
      "source": [
        "$$y(x)=\\frac{\\sum_{i=1}^{n}\\sum_{j=2}^{m}9^2_ix_j}{\\sqrt{\\frac{9}{w^2}}}$$"
      ],
      "metadata": {
        "id": "oaVW2bWN8q0C"
      }
    }
  ]
}